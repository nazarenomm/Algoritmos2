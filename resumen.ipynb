{
 "cells": [
  {
   "cell_type": "markdown",
   "metadata": {},
   "source": [
    "# Paradigma Funcional"
   ]
  },
  {
   "cell_type": "markdown",
   "metadata": {},
   "source": [
    "## Funciones de orden superior"
   ]
  },
  {
   "cell_type": "code",
   "execution_count": 10,
   "metadata": {},
   "outputs": [
    {
     "name": "stdout",
     "output_type": "stream",
     "text": [
      "4\n"
     ]
    }
   ],
   "source": [
    "def operation(x, func): # Funcion de orden superior\n",
    "    return func(x)\n",
    "\n",
    "def squared(x):\n",
    "    return x**2\n",
    "\n",
    "result = operation(2, squared)\n",
    "print(result)"
   ]
  },
  {
   "cell_type": "markdown",
   "metadata": {},
   "source": [
    "En un lenguaje que admite funciones como **ciudadanos de primera clase**, las funciones son tratadas como cualquier otro tipo de dato, como números o cadenas de texto. Esto significa que las funciones pueden ser asignadas a variables, pasadas como argumentos a otras funciones, retornadas como resultados de funciones y almacenadas en estructuras de datos."
   ]
  },
  {
   "cell_type": "markdown",
   "metadata": {},
   "source": [
    "### filter(function, iterable)"
   ]
  },
  {
   "cell_type": "markdown",
   "metadata": {},
   "source": [
    "La función filter() devuelve un iterador donde los elementos se filtran a través de una\n",
    "función para probar si el elemento es aceptado o no."
   ]
  },
  {
   "cell_type": "code",
   "execution_count": 26,
   "metadata": {},
   "outputs": [
    {
     "name": "stdout",
     "output_type": "stream",
     "text": [
      "[2, 4, 6, 8, 10]\n"
     ]
    }
   ],
   "source": [
    "def es_par(numero):\n",
    "    return numero % 2 == 0\n",
    "\n",
    "numeros = [1, 2, 3, 4, 5, 6, 7, 8, 9, 10]\n",
    "\n",
    "numeros_pares = list(filter(es_par, numeros))\n",
    "\n",
    "print(numeros_pares)"
   ]
  },
  {
   "cell_type": "markdown",
   "metadata": {},
   "source": [
    "### map(function, iterables)"
   ]
  },
  {
   "cell_type": "markdown",
   "metadata": {},
   "source": [
    "La función map() ejecuta una función específica para cada elemento en un iterable. El\n",
    "objeto se envía a la función como parámetro."
   ]
  },
  {
   "cell_type": "code",
   "execution_count": 12,
   "metadata": {},
   "outputs": [
    {
     "name": "stdout",
     "output_type": "stream",
     "text": [
      "[1, 4, 9, 16, 25, 36, 49, 64, 81, 100]\n"
     ]
    }
   ],
   "source": [
    "cuadrados = map(squared, numeros)\n",
    "\n",
    "cuadrados_lista = list(cuadrados)\n",
    "\n",
    "print(cuadrados_lista)"
   ]
  },
  {
   "cell_type": "markdown",
   "metadata": {},
   "source": [
    "### reduce(function, iterables)"
   ]
  },
  {
   "cell_type": "markdown",
   "metadata": {},
   "source": [
    "La función reduce() acepta una función y una secuencia y devuelve un único valor\n",
    "calculado:\n",
    "\n",
    "1) Inicialmente, se llama a la función con los dos primeros elementos de la secuencia y\n",
    "   se devuelve el resultado\n",
    "2) A continuación, se vuelve a llamar a la función con el resultado obtenido en el paso 1\n",
    "   y el siguiente valor de la secuencia. Este proceso se repite hasta que hay elementos\n",
    "   en la secuencia."
   ]
  },
  {
   "cell_type": "code",
   "execution_count": 13,
   "metadata": {},
   "outputs": [
    {
     "name": "stdout",
     "output_type": "stream",
     "text": [
      "55\n"
     ]
    }
   ],
   "source": [
    "from functools import reduce\n",
    "\n",
    "def suma(a, b):\n",
    "    return a + b\n",
    "\n",
    "resultado = reduce(suma, numeros)\n",
    "\n",
    "print(resultado)"
   ]
  },
  {
   "cell_type": "markdown",
   "metadata": {},
   "source": [
    "## Funciones Puras\n",
    "\n",
    "1) Cuando no tiene efectos secundarios observables, como alteración de las variables externas,\n",
    "cambios en el sistema de archivos, etc. No cambiarán expresamente ninguna variable de la que\n",
    "pudieran depender otras partes del código en algún momento.  \n",
    "   + Modificación de variables globales\n",
    "   + Modificación de argumentos\n",
    "   + Operaciones de entrada/salida (I/O)\n",
    "     + Impresiones en consola, registro de eventos\n",
    "     + Interacciones de red\n",
    "   + Llamadas a funciones con efectos secundarios\n",
    "   + Generación de numeros aleatorios\n",
    "\n",
    "1) Dados los mismos parámetros de entrada devuelve siempre el mismo valor. (esta condición se relaciona con la transparencia referencial)\n"
   ]
  },
  {
   "cell_type": "code",
   "execution_count": 14,
   "metadata": {},
   "outputs": [],
   "source": [
    "# Pura\n",
    "\n",
    "def suma(x,y):\n",
    "    return x + y\n",
    "\n",
    "# Impura\n",
    "contador = 0\n",
    "def increment(x):\n",
    "    global contador\n",
    "    contador += x\n",
    "    return contador"
   ]
  },
  {
   "cell_type": "code",
   "execution_count": 11,
   "metadata": {},
   "outputs": [
    {
     "name": "stdout",
     "output_type": "stream",
     "text": [
      "Impura: [1, 4, 3]\n",
      "Pura: [1, 8, 3]\n"
     ]
    }
   ],
   "source": [
    "def duplicar_elemento(lista: list[int], indice: int) -> list[int]:\n",
    "    lista[indice] *= 2\n",
    "    return lista\n",
    "\n",
    "def duplicar_elemento_pura(lista: list[int], indice: int) -> list[int]:\n",
    "    nueva_lista = lista.copy()\n",
    "    nueva_lista[indice] *= 2\n",
    "    return nueva_lista\n",
    "\n",
    "# Uso de ambas funciones\n",
    "original: list[int] = [1, 2, 3]\n",
    "resultado1: list[int] = duplicar_elemento(original, 1)\n",
    "resultado2: list[int] = duplicar_elemento_pura(original, 1)\n",
    "\n",
    "print(f\"Impura: {resultado1}\")  # Salida: [1, 4, 3]\n",
    "print(f\"Pura: {resultado2}\")  # Salida: [1, 8, 3]"
   ]
  },
  {
   "cell_type": "markdown",
   "metadata": {},
   "source": [
    "## Transparencia referencial\n",
    "\n",
    "Permite que el valor que devuelve una función esté únicamente determinado por el valor de sus\n",
    "argumentos consiguiendo que una misma expresión tenga siempre el mismo valor. De esta manera,\n",
    "los valores resultantes son inmutables. No existe el concepto de cambio de estado.\n",
    "Cuando el resultado devuelto por una función sólo depende de los argumentos que se le pasan en\n",
    "esa llamada."
   ]
  },
  {
   "cell_type": "code",
   "execution_count": 15,
   "metadata": {},
   "outputs": [
    {
     "data": {
      "text/plain": [
       "datetime.datetime(2024, 4, 20, 18, 11, 54, 611105)"
      ]
     },
     "execution_count": 15,
     "metadata": {},
     "output_type": "execute_result"
    }
   ],
   "source": [
    "# Transparente\n",
    "def sumarUno(x):\n",
    "    return x + 1\n",
    "\n",
    "#Opaca\n",
    "from datetime import datetime\n",
    "\n",
    "datetime.today() #no podemos garantizar que el resultado dependa únicamente de sus argumentos"
   ]
  },
  {
   "cell_type": "markdown",
   "metadata": {},
   "source": [
    "## Lambda\n",
    "\n",
    "Son anónimas y pueden definir cualquier número de parámetros pero una única expresión; la cual es evaluada y devuelta.\n",
    "Se pueden usar en cualquier lugar en el que una función sea requerida y están restringidas al uso de una sola expresión"
   ]
  },
  {
   "cell_type": "markdown",
   "metadata": {},
   "source": [
    "### Con map()"
   ]
  },
  {
   "cell_type": "code",
   "execution_count": 16,
   "metadata": {},
   "outputs": [
    {
     "name": "stdout",
     "output_type": "stream",
     "text": [
      "[1, 4, 9, 16, 25, 36, 49, 64, 81, 100]\n"
     ]
    }
   ],
   "source": [
    "#En lugar de usar squared uso lambda\n",
    "\n",
    "cuadrados = map(lambda x: x**2, numeros)\n",
    "\n",
    "\n",
    "cuadrados_lista = list(cuadrados)\n",
    "\n",
    "print(cuadrados_lista)"
   ]
  },
  {
   "cell_type": "markdown",
   "metadata": {},
   "source": [
    "### Con filter()"
   ]
  },
  {
   "cell_type": "code",
   "execution_count": 17,
   "metadata": {},
   "outputs": [
    {
     "name": "stdout",
     "output_type": "stream",
     "text": [
      "[2, 4, 6, 8, 10]\n"
     ]
    }
   ],
   "source": [
    "numeros_pares = list(filter(lambda x: x%2==0, numeros))\n",
    "\n",
    "print(numeros_pares)"
   ]
  },
  {
   "cell_type": "markdown",
   "metadata": {},
   "source": [
    "### Con reduce()"
   ]
  },
  {
   "cell_type": "code",
   "execution_count": 18,
   "metadata": {},
   "outputs": [
    {
     "name": "stdout",
     "output_type": "stream",
     "text": [
      "55\n"
     ]
    }
   ],
   "source": [
    "resultado = reduce(lambda x,y: x + y, numeros)\n",
    "\n",
    "print(resultado)"
   ]
  },
  {
   "cell_type": "markdown",
   "metadata": {},
   "source": [
    "## Structural Pattern Matching\n",
    "\n",
    "Es un heramienta del estilo Switch Case, pero mucho mas poderosa"
   ]
  },
  {
   "cell_type": "code",
   "execution_count": 19,
   "metadata": {},
   "outputs": [],
   "source": [
    "def http_error(status: int) -> str:\n",
    "    match status:\n",
    "        case 400:\n",
    "            return \"Bad request\"\n",
    "        case 404:\n",
    "            return \"Not found\"\n",
    "        case 418:\n",
    "            return \"I'm a teapot\"\n",
    "        case _:\n",
    "            return \"Something is wrong with the internet\""
   ]
  },
  {
   "cell_type": "markdown",
   "metadata": {},
   "source": [
    "Se puede hacer match case con distintas estructuras (dict, list, etc.) y hasta con objetos."
   ]
  },
  {
   "cell_type": "code",
   "execution_count": 20,
   "metadata": {},
   "outputs": [
    {
     "name": "stdout",
     "output_type": "stream",
     "text": [
      "Case #3\n"
     ]
    }
   ],
   "source": [
    "from dataclasses import dataclass\n",
    "\n",
    "@dataclass\n",
    "class Pair:\n",
    "    first: int\n",
    "    second: int\n",
    "\n",
    "pair = Pair(10,20)\n",
    "\n",
    "match pair:\n",
    "    case Pair(0,x):\n",
    "        print(\"Case #1\")\n",
    "    case Pair(x,y) if x==y:\n",
    "        print(\"Case #2\")\n",
    "    case Pair(first=x, second=20):\n",
    "        print(\"Case #3\")\n",
    "    case Pair as p:\n",
    "        print(\"Case #4\")"
   ]
  },
  {
   "cell_type": "markdown",
   "metadata": {},
   "source": [
    "## Estrategias de Evaluación\n",
    "\n",
    "Se computa una expresión a través de su reescritura hasta llegar a expresiones irreducibles (forma\n",
    "normal o canónica)  \n",
    "Existen dos órdenes:\n",
    "\n",
    "1) **Orden aplicativo**: se reducen primero las expresiones reducibles más internas, no contienen términos\n",
    "reducibles\n",
    "2) **Orden normal**: se reducen primero las expresiones reducibles más externas."
   ]
  },
  {
   "cell_type": "code",
   "execution_count": 2,
   "metadata": {},
   "outputs": [
    {
     "name": "stdout",
     "output_type": "stream",
     "text": [
      "ejecuto suma(4, 2)\n",
      "ejecuto squared(6)\n"
     ]
    },
    {
     "data": {
      "text/plain": [
       "36"
      ]
     },
     "execution_count": 2,
     "metadata": {},
     "output_type": "execute_result"
    }
   ],
   "source": [
    "#squared(4 + 2)\n",
    "\n",
    "def squared(x:float) -> float:\n",
    "    print(f\"ejecuto squared({x})\")\n",
    "    return x*x\n",
    "\n",
    "def suma(x: float, y: float) -> float:\n",
    "    print(f\"ejecuto suma({x}, {y})\")\n",
    "    return x + y\n",
    "\n",
    "squared(suma(4,2)) # python usa orden aplicativo"
   ]
  },
  {
   "cell_type": "markdown",
   "metadata": {},
   "source": [
    "**Orden aplicativo**: squared(4+2) -> squared(6) -> 6x6 -> 36  \n",
    "**Orden normal**: squared(4+2) -> (4+2) x (4+2) -> 6x6 ->36"
   ]
  },
  {
   "cell_type": "markdown",
   "metadata": {},
   "source": [
    "### Evaluación Estricta y Perezosa\n",
    "\n",
    "**Estricta**: Se evalúan primero las\n",
    "subexpresiones más internas, similar al orden aplicativo. Se suele\n",
    "relacionar con la evaluación impaciente donde una expresión se\n",
    "evalúa tan pronto como se encuentra durante el proceso de\n",
    "ejecución. Debemos evaluar todas las expresiones, aún si no\n",
    "fueran necesarias para calcular el valor.  \n",
    "EN PYTHON CASI TODO SE EVALÚA DE FORMA ESTRICTA  \n",
    "+ Ventajas:\n",
    "  + Es fácil de entender y usar.\n",
    "  + No hay posibilidad de olvidarse de cargar datos necesarios.\n",
    "+ Desventajas:\n",
    "  + Puede llevar a un uso innecesario de recursos si se cargan datos que no se van a usar.\n",
    "  + Puede causar problemas de rendimiento si se cargan grandes cantidades de datos.\n",
    "\n",
    "**Perezosa**: Retrasa el cálculo de una\n",
    "expresión hasta que su valor sea necesario. Es\n",
    "fundamental en programación funcional ya que permite\n",
    "trabajar con “estructuras infinitas” (hasta el límite del tipo)\n",
    "+ Ventajas:\n",
    "  + Puede mejorar el rendimiento al evitar cálculos innecesarios.\n",
    "  + Puede reducir el consumo de memoria al crear valores solo cuando se necesitan.\n",
    "+ Desventajas:\n",
    "  + Puede ser más difícil de entender y usar.\n",
    "  + Puede causar pronlemas si se olvida de cargar los datos necesarios.\n"
   ]
  },
  {
   "cell_type": "markdown",
   "metadata": {},
   "source": [
    "### Evaluación de cortocircuito\n",
    "\n",
    "Esta estrategia se aplica a **expresiones booleanas** y se implementa en varios lenguajes de programación, incluyendo Python, donde se permite evitar la evaluación de un segundo término dependiendo del valor del primero."
   ]
  },
  {
   "cell_type": "code",
   "execution_count": 3,
   "metadata": {},
   "outputs": [
    {
     "data": {
      "text/plain": [
       "False"
      ]
     },
     "execution_count": 3,
     "metadata": {},
     "output_type": "execute_result"
    }
   ],
   "source": [
    "def esDivisor(nro: int, divisor: int) -> bool:\n",
    "    return (divisor > 0) and (nro % divisor == 0)\n",
    "\n",
    "esDivisor(10, 0)    # False"
   ]
  },
  {
   "cell_type": "markdown",
   "metadata": {},
   "source": [
    "La expresión de retorno incorpora esta estrategia de evaluación, porque si fuera estricta tendría que primero resolver la expresión ``divisor > 0`` y luego la expresión ``nro % divisor`` para continuar con las restantes , pero no podría hacerlo porque surgiría la excepción de que no es posible obtener el módulo de un número con 0. Dado que Python utiliza la evaluación no estricta para estos casos, es posible devolver directamente ``False`` porque el primer término del ``and`` ya retorna ese valor y no tiene sentido evaluar el segundo."
   ]
  },
  {
   "cell_type": "markdown",
   "metadata": {},
   "source": [
    "## Inmutabilidad en Python\n",
    "\n",
    "En el contexto de la programación, una variable es inmutable cuando su valor no se\n",
    "puede modificar. Y un objeto lo es cuando su estado no puede ser actualizado tras la\n",
    "creación del objeto.\n"
   ]
  },
  {
   "cell_type": "code",
   "execution_count": 27,
   "metadata": {},
   "outputs": [
    {
     "name": "stdout",
     "output_type": "stream",
     "text": [
      "id de [1, 2, 3, 4, 5, 6, 7, 8, 9, 10]: 2124031244544\n",
      "id de [100, 2, 3, 4, 5, 6, 7, 8, 9, 10]: 2124031244544\n",
      "Mismo id, entonces la lista es el mismo objeto\n"
     ]
    }
   ],
   "source": [
    "print(f\"id de {numeros}: {id(numeros)}\")\n",
    "\n",
    "numeros[0] = 100\n",
    "print(f\"id de {numeros}: {id(numeros)}\")\n",
    "print(\"Mismo id, entonces la lista es el mismo objeto\")"
   ]
  },
  {
   "cell_type": "markdown",
   "metadata": {},
   "source": [
    "Los **objetos mutables** son aquellos cuyo contenido puede modificarse luego de haber sido creados.  \n",
    "Por ejemplo: listas, diccionarios, conjuntos (sets)."
   ]
  },
  {
   "cell_type": "markdown",
   "metadata": {},
   "source": [
    "Los siguientes tipos de datos son **inmutables**:\n",
    "\n",
    "+ Números: clases ``int``, ``float``, ``complex``\n",
    "+ Bytes: clase ``bytes``\n",
    "+ Cadenas: clase ``str``\n",
    "+ Tuplas: clase ``tuple``\n",
    "+ Booleanos: clase ``bool``\n",
    "+ Frozen Sets: clase ``frozenset``\n",
    "\n",
    "Los siguientes tipos de datos son **mutables**:\n",
    "\n",
    "+ Listas: clase ``list``\n",
    "+ Diccionarios: clase ``dict``\n",
    "+ Conjuntos: clase ``set``\n",
    "+ Byte arrays: clase ``bytearray``"
   ]
  },
  {
   "cell_type": "markdown",
   "metadata": {},
   "source": [
    "### ¿Por qué diseñaríamos algo inmutable?\n",
    "\n",
    "Recordemos que en la programación funcional no registramos el estado de ejecución de un programa en variables u objetos como sí lo hacemos en otros paradigmas, por lo tanto trabajamos siempre con elementos inmutables que sirven de entrada y salida a las funciones.\n",
    "\n",
    "Diseñar soluciones con elementos inmutables nos provee algunos beneficios."
   ]
  },
  {
   "cell_type": "markdown",
   "metadata": {},
   "source": [
    "**Claridad y Entendimiento**  \n",
    "La inmutabilidad simplifica la lógica del programa al reducir la cantidad de cambios de estado posibles. Esto hace que el código sea más fácil de entender ya que no es necesario rastrear cambios en el estado a lo largo del tiempo.\n",
    "\n",
    "**Prevención de Cambios Accidentales**  \n",
    "Cuando se crea una instancia de una clase inmutable, sus valores no pueden ser modificados. Esto ayuda a prevenir cambios accidentales en el estado del objeto, lo que puede conducir a resultados inesperados o errores difíciles de rastrear.\n",
    "\n",
    "**Concurrencia más sencilla y segura**  \n",
    "En entornos con concurrencia (multi-threading), las clases inmutables eliminan la necesidad de sincronización para evitar problemas de concurrencia. Dado que no hay posibilidad de cambios en el estado, varios hilos (threads) pueden acceder y utilizar objetos inmutables de manera segura sin preocuparse por conflictos o inconsistencias.\n",
    "\n",
    "**Facilita la Programación Funcional**  \n",
    "Al diseñar clases inmutables, se facilita la adopción de principios funcionales, como la creación de funciones puras y la composición de operaciones, porque necesariamente se deben devolver nuevos objetos generados a partir de los originales agregando la modificación que corresponda.\n",
    "\n",
    "**Optimización de Rendimiento**  \n",
    "En ciertos casos, los compiladores y entornos de ejecución pueden optimizar el código que involucra objetos inmutables, ya que la falta de cambios de estado permite realizar ciertas optimizaciones."
   ]
  },
  {
   "cell_type": "markdown",
   "metadata": {},
   "source": [
    "## Clases inmutables"
   ]
  },
  {
   "cell_type": "markdown",
   "metadata": {},
   "source": [
    "### Ocultando Atributos\n",
    "\n",
    "La condición más importante, pero no suficiente, sería ocultar los atributos de nuestra clase utilizando la convención de nombre que indica **utilizar como prefijo el guión bajo**. Decimos que no es suficiente porque podríamos alterar el valor de nuestros atributos si los accedemos públicamente, recordemos que es una simple notación que indica a quien consume la clase que no debería hacerlo.\n",
    "\n",
    "Existe un atributo de clase especial ``__slots__`` que permite optimizar la creación de instancias en memoria, ya que podemos asignarle un conjunto fijo de nombres de atributos que tiene una instancia de esa clase. Por lo tanto, si definimos ``__slots__ = ('x', 'y',)`` como atributo de una clase significa que un objeto de esa clase sólo podrá tener como atributos a x e y."
   ]
  },
  {
   "cell_type": "markdown",
   "metadata": {},
   "source": [
    "### Properties\n",
    "\n",
    "Sabemos que en Python existe posibilidad de convertir atributos en propiedades para mejorar el encapsulamiento de la clase. Una estrategia sería **convertir los atributos en propiedades de sólo lectura**, es decir, no definir los setters."
   ]
  },
  {
   "cell_type": "code",
   "execution_count": null,
   "metadata": {},
   "outputs": [],
   "source": [
    "class MiClaseInmutable:\n",
    "    def __init__(self, valor_inicial):\n",
    "        self._valor = valor_inicial\n",
    "    \n",
    "    @property\n",
    "    def valor(self):\n",
    "        return self._valor\n",
    "\n",
    "objeto_inmutable = MiClaseInmutable(20)\n",
    "objeto_inmutable.valor                      # 20\n",
    "objeto_inmutable.valor = 10                 # AttributeError: property 'valor' of 'MiClaseInmutable' object has no setter\n",
    "objeto_inmutable._valor = 10                # Modifica el valor\n",
    "objeto_inmutable.valor                      # 10"
   ]
  },
  {
   "cell_type": "markdown",
   "metadata": {},
   "source": [
    "### Metodos especialess ``__setattr__`` y ``__delattr__``"
   ]
  },
  {
   "cell_type": "code",
   "execution_count": 1,
   "metadata": {},
   "outputs": [],
   "source": [
    "from typing import Any\n",
    "\n",
    "class MiClaseInmutable:\n",
    "    __slots__ = ('_valor',)\n",
    "\n",
    "    def __init__(self, valor_inicial):\n",
    "        super().__setattr__('_valor', valor_inicial)\n",
    "    \n",
    "    def __setattr__(self, __name: str, __value: Any) -> None:\n",
    "        raise AttributeError(f'No es posible setear el atributo {__name}')\n",
    "    \n",
    "    def __delattr__(self, __name: str) -> None:\n",
    "        raise AttributeError(f'No es posible eliminar el atributo {__name}')\n",
    "    \n",
    "    def valor(self):\n",
    "        return self._valor"
   ]
  },
  {
   "cell_type": "markdown",
   "metadata": {},
   "source": [
    "En la inicialización debemos utilizar el ``super().__setattr__()`` porque el propio devuelve una excepción. Entonces una vez inicializado el objeto, nunca podremos modificarlo."
   ]
  },
  {
   "cell_type": "markdown",
   "metadata": {},
   "source": [
    "### Named Tuples\n"
   ]
  },
  {
   "cell_type": "markdown",
   "metadata": {},
   "source": [
    " Una opción sería utilizar ``namedtuple`` que nos permite generar un objeto subclase de ``tuple``, por ende inmutable, pero con los atributos con nombres en lugar de índices."
   ]
  },
  {
   "cell_type": "code",
   "execution_count": 2,
   "metadata": {},
   "outputs": [
    {
     "data": {
      "text/plain": [
       "20"
      ]
     },
     "execution_count": 2,
     "metadata": {},
     "output_type": "execute_result"
    }
   ],
   "source": [
    "from collections import namedtuple\n",
    "\n",
    "MiClaseInmutable = namedtuple('MiClaseInmutable', 'valor1 valor2')\n",
    "mi_obj = MiClaseInmutable(10, 20)\n",
    "mi_obj                  # MiClaseInmutable(valor1=10, valor2=20)\n",
    "mi_obj.valor1           # 10\n",
    "mi_obj.valor2           # 20"
   ]
  },
  {
   "cell_type": "markdown",
   "metadata": {},
   "source": [
    "El problema con esta estrategia es que perdemos el concepto de **encapsulamiento** que nos proveen las clases, vinculando la estructura con el comportamiento. Como solución podemos definir nuestra clase heredando desde ``namedtuple``."
   ]
  },
  {
   "cell_type": "code",
   "execution_count": 4,
   "metadata": {},
   "outputs": [
    {
     "data": {
      "text/plain": [
       "MiClaseInmutable(valor1=10, valor2=20) INMUTABLE"
      ]
     },
     "execution_count": 4,
     "metadata": {},
     "output_type": "execute_result"
    }
   ],
   "source": [
    "from collections import namedtuple\n",
    "\n",
    "class MiClaseInmutable(namedtuple('MiClaseInmutable', 'valor1 valor2')):\n",
    "    __slots__ = ()\n",
    "    def __repr__(self) -> str:\n",
    "        return f'{super().__repr__()} INMUTABLE'\n",
    "    \n",
    "mi_obj = MiClaseInmutable(10, 20)\n",
    "mi_obj"
   ]
  },
  {
   "cell_type": "markdown",
   "metadata": {},
   "source": [
    "Debemos agregar ``__slots__`` para evitar que la clase pueda aceptar nuevos atributos, pero luego podemos definir el comportamiento que deseemos, como en el ejemplo sobreescribiendo el método especial ``__repr__``."
   ]
  },
  {
   "cell_type": "markdown",
   "metadata": {},
   "source": [
    "### dataclasses\n",
    "\n",
    "El módulo ``dataclasses`` provee funcionalidad que implementa automáticamente **métodos especiales** en clases que diseñamos. La particularidad es que definimos la estructura de nuestras clases con variables de clase con anotaciones de tipo, y luego la función decoradora ``dataclass`` genera los atributos de instancia correspondientes implementando el método ``__init__()``.  \n",
    "El parametro ``frozen`` es un booleano que si se define en True podemos evitar la asignación nueva de valores y así proveer **inmutabilidad** a nuestra clase."
   ]
  },
  {
   "cell_type": "code",
   "execution_count": 7,
   "metadata": {},
   "outputs": [
    {
     "name": "stdout",
     "output_type": "stream",
     "text": [
      "Persona(nombre='Julia', apellido='Martinez', edad=22)\n"
     ]
    },
    {
     "ename": "FrozenInstanceError",
     "evalue": "cannot assign to field 'edad'",
     "output_type": "error",
     "traceback": [
      "\u001b[1;31m---------------------------------------------------------------------------\u001b[0m",
      "\u001b[1;31mFrozenInstanceError\u001b[0m                       Traceback (most recent call last)",
      "Cell \u001b[1;32mIn[7], line 14\u001b[0m\n\u001b[0;32m     12\u001b[0m p \u001b[38;5;241m=\u001b[39m Persona(\u001b[38;5;124m\"\u001b[39m\u001b[38;5;124mJulia\u001b[39m\u001b[38;5;124m\"\u001b[39m, \u001b[38;5;124m\"\u001b[39m\u001b[38;5;124mMartinez\u001b[39m\u001b[38;5;124m\"\u001b[39m, \u001b[38;5;241m22\u001b[39m)\n\u001b[0;32m     13\u001b[0m \u001b[38;5;28mprint\u001b[39m(p)        \u001b[38;5;66;03m# Persona(nombre='Julia', apellido='Martinez', edad=22)\u001b[39;00m\n\u001b[1;32m---> 14\u001b[0m \u001b[43mp\u001b[49m\u001b[38;5;241;43m.\u001b[39;49m\u001b[43medad\u001b[49m \u001b[38;5;241m=\u001b[39m \u001b[38;5;241m20\u001b[39m     \u001b[38;5;66;03m# FrozenInstanceError: cannot assign to field 'edad'\u001b[39;00m\n",
      "File \u001b[1;32m<string>:4\u001b[0m, in \u001b[0;36m__setattr__\u001b[1;34m(self, name, value)\u001b[0m\n",
      "\u001b[1;31mFrozenInstanceError\u001b[0m: cannot assign to field 'edad'"
     ]
    }
   ],
   "source": [
    "from dataclasses import dataclass\n",
    "\n",
    "@dataclass(frozen=True)\n",
    "class Persona:\n",
    "    nombre: str\n",
    "    apellido: str\n",
    "    edad: int\n",
    "\n",
    "    def es_adulta(self):\n",
    "        return self.edad >= 18\n",
    "    \n",
    "p = Persona(\"Julia\", \"Martinez\", 22)\n",
    "print(p)        # Persona(nombre='Julia', apellido='Martinez', edad=22)\n",
    "p.edad = 20     # FrozenInstanceError: cannot assign to field 'edad'"
   ]
  }
 ],
 "metadata": {
  "kernelspec": {
   "display_name": "Python 3",
   "language": "python",
   "name": "python3"
  },
  "language_info": {
   "codemirror_mode": {
    "name": "ipython",
    "version": 3
   },
   "file_extension": ".py",
   "mimetype": "text/x-python",
   "name": "python",
   "nbconvert_exporter": "python",
   "pygments_lexer": "ipython3",
   "version": "3.12.1"
  }
 },
 "nbformat": 4,
 "nbformat_minor": 2
}
