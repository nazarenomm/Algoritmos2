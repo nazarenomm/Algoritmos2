{
 "cells": [
  {
   "cell_type": "code",
   "execution_count": null,
   "metadata": {},
   "outputs": [],
   "source": [
    "class MiClaseInmutable:\n",
    "    __slots__ = ('_valor',)\n",
    "\n",
    "    def __init__(self, valor_inicial):\n",
    "        super().__setattr__('_valor', valor_inicial)\n",
    "    \n",
    "    def __setattr__(self, __name: str, __value: Any) -> None:\n",
    "        raise AttributeError(f'No es posible setear el atributo {__name}')\n",
    "    \n",
    "    def __delattr__(self, __name: str) -> None:\n",
    "        raise AttributeError(f'No es posible eliminar el atributo {__name}')\n",
    "    \n",
    "    def valor(self):\n",
    "        return self._valor"
   ]
  },
  {
   "cell_type": "markdown",
   "metadata": {},
   "source": [
    "Logramos una muy buena inmutabilidad de la clase, por lo menos superficial (recordar el tema de la transitividad)."
   ]
  },
  {
   "cell_type": "markdown",
   "metadata": {},
   "source": [
    "### Named Tuples"
   ]
  },
  {
   "cell_type": "code",
   "execution_count": null,
   "metadata": {},
   "outputs": [],
   "source": [
    "from collections import namedtuple\n",
    "\n",
    "class MiClaseInmutable(namedtuple('MiClaseInmutable', 'valor1 valor2')):\n",
    "    __slots__ = ()\n",
    "    def __repr__(self) -> str:\n",
    "        return f'{super().__repr__()} INMUTABLE'\n",
    "    \n",
    "mi_obj = MiClaseInmutable(10, 20)\n",
    "mi_obj                  # MiClaseInmutable(valor1=10, valor2=20) INMUTABLE"
   ]
  },
  {
   "cell_type": "markdown",
   "metadata": {},
   "source": [
    "### Dataclasses"
   ]
  },
  {
   "cell_type": "code",
   "execution_count": null,
   "metadata": {},
   "outputs": [],
   "source": [
    "from dataclasses import dataclass\n",
    "\n",
    "@dataclass(frozen=True)\n",
    "class Persona:\n",
    "    nombre: str\n",
    "    apellido: str\n",
    "    edad: int\n",
    "\n",
    "    def es_adulta(self):\n",
    "        return edad >= 18\n",
    "    \n",
    "p = Persona(\"Julia\", \"Martinez\", 22)\n",
    "print(p)        # Persona(nombre='Julia', apellido='Martinez', edad=22)\n",
    "p.edad = 20     # FrozenInstanceError: cannot assign to field 'edad'"
   ]
  }
 ],
 "metadata": {
  "language_info": {
   "name": "python"
  }
 },
 "nbformat": 4,
 "nbformat_minor": 2
}
