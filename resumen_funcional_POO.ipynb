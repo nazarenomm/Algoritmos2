{
 "cells": [
  {
   "cell_type": "markdown",
   "metadata": {},
   "source": [
    "# Paradigma Funcional"
   ]
  },
  {
   "cell_type": "markdown",
   "metadata": {},
   "source": [
    "## Funciones de orden superior"
   ]
  },
  {
   "cell_type": "code",
   "execution_count": 10,
   "metadata": {},
   "outputs": [
    {
     "name": "stdout",
     "output_type": "stream",
     "text": [
      "4\n"
     ]
    }
   ],
   "source": [
    "def operation(x, func): # Funcion de orden superior\n",
    "    return func(x)\n",
    "\n",
    "def squared(x):\n",
    "    return x**2\n",
    "\n",
    "result = operation(2, squared)\n",
    "print(result)"
   ]
  },
  {
   "cell_type": "markdown",
   "metadata": {},
   "source": [
    "En un lenguaje que admite funciones como **ciudadanos de primera clase**, las funciones son tratadas como cualquier otro tipo de dato, como números o cadenas de texto. Esto significa que las funciones pueden ser asignadas a variables, pasadas como argumentos a otras funciones, retornadas como resultados de funciones y almacenadas en estructuras de datos."
   ]
  },
  {
   "cell_type": "markdown",
   "metadata": {},
   "source": [
    "### filter(function, iterable)"
   ]
  },
  {
   "cell_type": "markdown",
   "metadata": {},
   "source": [
    "La función filter() devuelve un iterador donde los elementos se filtran a través de una\n",
    "función para probar si el elemento es aceptado o no."
   ]
  },
  {
   "cell_type": "code",
   "execution_count": 26,
   "metadata": {},
   "outputs": [
    {
     "name": "stdout",
     "output_type": "stream",
     "text": [
      "[2, 4, 6, 8, 10]\n"
     ]
    }
   ],
   "source": [
    "def es_par(numero):\n",
    "    return numero % 2 == 0\n",
    "\n",
    "numeros = [1, 2, 3, 4, 5, 6, 7, 8, 9, 10]\n",
    "\n",
    "numeros_pares = list(filter(es_par, numeros))\n",
    "\n",
    "print(numeros_pares)"
   ]
  },
  {
   "cell_type": "markdown",
   "metadata": {},
   "source": [
    "### map(function, iterables)"
   ]
  },
  {
   "cell_type": "markdown",
   "metadata": {},
   "source": [
    "La función map() ejecuta una función específica para cada elemento en un iterable. El\n",
    "objeto se envía a la función como parámetro."
   ]
  },
  {
   "cell_type": "code",
   "execution_count": 12,
   "metadata": {},
   "outputs": [
    {
     "name": "stdout",
     "output_type": "stream",
     "text": [
      "[1, 4, 9, 16, 25, 36, 49, 64, 81, 100]\n"
     ]
    }
   ],
   "source": [
    "cuadrados = map(squared, numeros)\n",
    "\n",
    "cuadrados_lista = list(cuadrados)\n",
    "\n",
    "print(cuadrados_lista)"
   ]
  },
  {
   "cell_type": "markdown",
   "metadata": {},
   "source": [
    "### reduce(function, iterables)"
   ]
  },
  {
   "cell_type": "markdown",
   "metadata": {},
   "source": [
    "La función reduce() acepta una función y una secuencia y devuelve un único valor\n",
    "calculado:\n",
    "\n",
    "1) Inicialmente, se llama a la función con los dos primeros elementos de la secuencia y\n",
    "   se devuelve el resultado\n",
    "2) A continuación, se vuelve a llamar a la función con el resultado obtenido en el paso 1\n",
    "   y el siguiente valor de la secuencia. Este proceso se repite hasta que hay elementos\n",
    "   en la secuencia."
   ]
  },
  {
   "cell_type": "code",
   "execution_count": 13,
   "metadata": {},
   "outputs": [
    {
     "name": "stdout",
     "output_type": "stream",
     "text": [
      "55\n"
     ]
    }
   ],
   "source": [
    "from functools import reduce\n",
    "\n",
    "def suma(a, b):\n",
    "    return a + b\n",
    "\n",
    "resultado = reduce(suma, numeros)\n",
    "\n",
    "print(resultado)"
   ]
  },
  {
   "cell_type": "markdown",
   "metadata": {},
   "source": [
    "## Funciones Puras\n",
    "\n",
    "1) Cuando no tiene efectos secundarios observables, como alteración de las variables externas,\n",
    "cambios en el sistema de archivos, etc. No cambiarán expresamente ninguna variable de la que\n",
    "pudieran depender otras partes del código en algún momento.  \n",
    "   + Modificación de variables globales\n",
    "   + Modificación de argumentos\n",
    "   + Operaciones de entrada/salida (I/O)\n",
    "     + Impresiones en consola, registro de eventos\n",
    "     + Interacciones de red\n",
    "   + Llamadas a funciones con efectos secundarios\n",
    "   + Generación de numeros aleatorios\n",
    "\n",
    "1) Dados los mismos parámetros de entrada devuelve siempre el mismo valor. (esta condición se relaciona con la transparencia referencial)\n"
   ]
  },
  {
   "cell_type": "code",
   "execution_count": 14,
   "metadata": {},
   "outputs": [],
   "source": [
    "# Pura\n",
    "\n",
    "def suma(x,y):\n",
    "    return x + y\n",
    "\n",
    "# Impura\n",
    "contador = 0\n",
    "def increment(x):\n",
    "    global contador\n",
    "    contador += x\n",
    "    return contador"
   ]
  },
  {
   "cell_type": "code",
   "execution_count": 11,
   "metadata": {},
   "outputs": [
    {
     "name": "stdout",
     "output_type": "stream",
     "text": [
      "Impura: [1, 4, 3]\n",
      "Pura: [1, 8, 3]\n"
     ]
    }
   ],
   "source": [
    "def duplicar_elemento(lista: list[int], indice: int) -> list[int]:\n",
    "    lista[indice] *= 2\n",
    "    return lista\n",
    "\n",
    "def duplicar_elemento_pura(lista: list[int], indice: int) -> list[int]:\n",
    "    nueva_lista = lista.copy()\n",
    "    nueva_lista[indice] *= 2\n",
    "    return nueva_lista\n",
    "\n",
    "# Uso de ambas funciones\n",
    "original: list[int] = [1, 2, 3]\n",
    "resultado1: list[int] = duplicar_elemento(original, 1)\n",
    "resultado2: list[int] = duplicar_elemento_pura(original, 1)\n",
    "\n",
    "print(f\"Impura: {resultado1}\")  # Salida: [1, 4, 3]\n",
    "print(f\"Pura: {resultado2}\")  # Salida: [1, 8, 3]"
   ]
  },
  {
   "cell_type": "markdown",
   "metadata": {},
   "source": [
    "## Transparencia referencial\n",
    "\n",
    "Permite que el valor que devuelve una función esté únicamente determinado por el valor de sus\n",
    "argumentos consiguiendo que una misma expresión tenga siempre el mismo valor. De esta manera,\n",
    "los valores resultantes son inmutables. No existe el concepto de cambio de estado.\n",
    "Cuando el resultado devuelto por una función sólo depende de los argumentos que se le pasan en\n",
    "esa llamada."
   ]
  },
  {
   "cell_type": "code",
   "execution_count": 15,
   "metadata": {},
   "outputs": [
    {
     "data": {
      "text/plain": [
       "datetime.datetime(2024, 4, 20, 18, 11, 54, 611105)"
      ]
     },
     "execution_count": 15,
     "metadata": {},
     "output_type": "execute_result"
    }
   ],
   "source": [
    "# Transparente\n",
    "def sumarUno(x):\n",
    "    return x + 1\n",
    "\n",
    "#Opaca\n",
    "from datetime import datetime\n",
    "\n",
    "datetime.today() #no podemos garantizar que el resultado dependa únicamente de sus argumentos"
   ]
  },
  {
   "cell_type": "markdown",
   "metadata": {},
   "source": [
    "## Lambda\n",
    "\n",
    "Son anónimas y pueden definir cualquier número de parámetros pero una única expresión; la cual es evaluada y devuelta.\n",
    "Se pueden usar en cualquier lugar en el que una función sea requerida y están restringidas al uso de una sola expresión"
   ]
  },
  {
   "cell_type": "markdown",
   "metadata": {},
   "source": [
    "### Con map()"
   ]
  },
  {
   "cell_type": "code",
   "execution_count": 16,
   "metadata": {},
   "outputs": [
    {
     "name": "stdout",
     "output_type": "stream",
     "text": [
      "[1, 4, 9, 16, 25, 36, 49, 64, 81, 100]\n"
     ]
    }
   ],
   "source": [
    "#En lugar de usar squared uso lambda\n",
    "\n",
    "cuadrados = map(lambda x: x**2, numeros)\n",
    "\n",
    "\n",
    "cuadrados_lista = list(cuadrados)\n",
    "\n",
    "print(cuadrados_lista)"
   ]
  },
  {
   "cell_type": "markdown",
   "metadata": {},
   "source": [
    "### Con filter()"
   ]
  },
  {
   "cell_type": "code",
   "execution_count": 17,
   "metadata": {},
   "outputs": [
    {
     "name": "stdout",
     "output_type": "stream",
     "text": [
      "[2, 4, 6, 8, 10]\n"
     ]
    }
   ],
   "source": [
    "numeros_pares = list(filter(lambda x: x%2==0, numeros))\n",
    "\n",
    "print(numeros_pares)"
   ]
  },
  {
   "cell_type": "markdown",
   "metadata": {},
   "source": [
    "### Con reduce()"
   ]
  },
  {
   "cell_type": "code",
   "execution_count": 18,
   "metadata": {},
   "outputs": [
    {
     "name": "stdout",
     "output_type": "stream",
     "text": [
      "55\n"
     ]
    }
   ],
   "source": [
    "resultado = reduce(lambda x,y: x + y, numeros)\n",
    "\n",
    "print(resultado)"
   ]
  },
  {
   "cell_type": "markdown",
   "metadata": {},
   "source": [
    "## Structural Pattern Matching\n",
    "\n",
    "Es un heramienta del estilo Switch Case, pero mucho mas poderosa"
   ]
  },
  {
   "cell_type": "code",
   "execution_count": 19,
   "metadata": {},
   "outputs": [],
   "source": [
    "def http_error(status: int) -> str:\n",
    "    match status:\n",
    "        case 400:\n",
    "            return \"Bad request\"\n",
    "        case 404:\n",
    "            return \"Not found\"\n",
    "        case 418:\n",
    "            return \"I'm a teapot\"\n",
    "        case _:\n",
    "            return \"Something is wrong with the internet\""
   ]
  },
  {
   "cell_type": "markdown",
   "metadata": {},
   "source": [
    "Se puede hacer match case con distintas estructuras (dict, list, etc.) y hasta con objetos."
   ]
  },
  {
   "cell_type": "code",
   "execution_count": 20,
   "metadata": {},
   "outputs": [
    {
     "name": "stdout",
     "output_type": "stream",
     "text": [
      "Case #3\n"
     ]
    }
   ],
   "source": [
    "from dataclasses import dataclass\n",
    "\n",
    "@dataclass\n",
    "class Pair:\n",
    "    first: int\n",
    "    second: int\n",
    "\n",
    "pair = Pair(10,20)\n",
    "\n",
    "match pair:\n",
    "    case Pair(0,x):\n",
    "        print(\"Case #1\")\n",
    "    case Pair(x,y) if x==y:\n",
    "        print(\"Case #2\")\n",
    "    case Pair(first=x, second=20):\n",
    "        print(\"Case #3\")\n",
    "    case Pair as p:\n",
    "        print(\"Case #4\")"
   ]
  },
  {
   "cell_type": "markdown",
   "metadata": {},
   "source": [
    "## Estrategias de Evaluación\n",
    "\n",
    "Se computa una expresión a través de su reescritura hasta llegar a expresiones irreducibles (forma\n",
    "normal o canónica)  \n",
    "Existen dos órdenes:\n",
    "\n",
    "1) **Orden aplicativo**: se reducen primero las expresiones reducibles más internas, no contienen términos\n",
    "reducibles\n",
    "2) **Orden normal**: se reducen primero las expresiones reducibles más externas."
   ]
  },
  {
   "cell_type": "code",
   "execution_count": 2,
   "metadata": {},
   "outputs": [
    {
     "name": "stdout",
     "output_type": "stream",
     "text": [
      "ejecuto suma(4, 2)\n",
      "ejecuto squared(6)\n"
     ]
    },
    {
     "data": {
      "text/plain": [
       "36"
      ]
     },
     "execution_count": 2,
     "metadata": {},
     "output_type": "execute_result"
    }
   ],
   "source": [
    "#squared(4 + 2)\n",
    "\n",
    "def squared(x:float) -> float:\n",
    "    print(f\"ejecuto squared({x})\")\n",
    "    return x*x\n",
    "\n",
    "def suma(x: float, y: float) -> float:\n",
    "    print(f\"ejecuto suma({x}, {y})\")\n",
    "    return x + y\n",
    "\n",
    "squared(suma(4,2)) # python usa orden aplicativo"
   ]
  },
  {
   "cell_type": "markdown",
   "metadata": {},
   "source": [
    "**Orden aplicativo**: squared(4+2) -> squared(6) -> 6x6 -> 36  \n",
    "**Orden normal**: squared(4+2) -> (4+2) x (4+2) -> 6x6 ->36"
   ]
  },
  {
   "cell_type": "markdown",
   "metadata": {},
   "source": [
    "### Evaluación Estricta y Perezosa\n",
    "\n",
    "**Estricta**: Se evalúan primero las\n",
    "subexpresiones más internas, similar al orden aplicativo. Se suele\n",
    "relacionar con la evaluación impaciente donde una expresión se\n",
    "evalúa tan pronto como se encuentra durante el proceso de\n",
    "ejecución. Debemos evaluar todas las expresiones, aún si no\n",
    "fueran necesarias para calcular el valor.  \n",
    "EN PYTHON CASI TODO SE EVALÚA DE FORMA ESTRICTA  \n",
    "+ Ventajas:\n",
    "  + Es fácil de entender y usar.\n",
    "  + No hay posibilidad de olvidarse de cargar datos necesarios.\n",
    "+ Desventajas:\n",
    "  + Puede llevar a un uso innecesario de recursos si se cargan datos que no se van a usar.\n",
    "  + Puede causar problemas de rendimiento si se cargan grandes cantidades de datos.\n",
    "\n",
    "**Perezosa**: Retrasa el cálculo de una\n",
    "expresión hasta que su valor sea necesario. Es\n",
    "fundamental en programación funcional ya que permite\n",
    "trabajar con “estructuras infinitas” (hasta el límite del tipo)\n",
    "+ Ventajas:\n",
    "  + Puede mejorar el rendimiento al evitar cálculos innecesarios.\n",
    "  + Puede reducir el consumo de memoria al crear valores solo cuando se necesitan.\n",
    "+ Desventajas:\n",
    "  + Puede ser más difícil de entender y usar.\n",
    "  + Puede causar pronlemas si se olvida de cargar los datos necesarios.\n"
   ]
  },
  {
   "cell_type": "markdown",
   "metadata": {},
   "source": [
    "### Evaluación de cortocircuito\n",
    "\n",
    "Esta estrategia se aplica a **expresiones booleanas** y se implementa en varios lenguajes de programación, incluyendo Python, donde se permite evitar la evaluación de un segundo término dependiendo del valor del primero."
   ]
  },
  {
   "cell_type": "code",
   "execution_count": 3,
   "metadata": {},
   "outputs": [
    {
     "data": {
      "text/plain": [
       "False"
      ]
     },
     "execution_count": 3,
     "metadata": {},
     "output_type": "execute_result"
    }
   ],
   "source": [
    "def esDivisor(nro: int, divisor: int) -> bool:\n",
    "    return (divisor > 0) and (nro % divisor == 0)\n",
    "\n",
    "esDivisor(10, 0)    # False"
   ]
  },
  {
   "cell_type": "markdown",
   "metadata": {},
   "source": [
    "La expresión de retorno incorpora esta estrategia de evaluación, porque si fuera estricta tendría que primero resolver la expresión ``divisor > 0`` y luego la expresión ``nro % divisor`` para continuar con las restantes , pero no podría hacerlo porque surgiría la excepción de que no es posible obtener el módulo de un número con 0. Dado que Python utiliza la evaluación no estricta para estos casos, es posible devolver directamente ``False`` porque el primer término del ``and`` ya retorna ese valor y no tiene sentido evaluar el segundo."
   ]
  },
  {
   "cell_type": "markdown",
   "metadata": {},
   "source": [
    "## Inmutabilidad en Python\n",
    "\n",
    "En el contexto de la programación, una variable es inmutable cuando su valor no se\n",
    "puede modificar. Y un objeto lo es cuando su estado no puede ser actualizado tras la\n",
    "creación del objeto.\n"
   ]
  },
  {
   "cell_type": "code",
   "execution_count": 27,
   "metadata": {},
   "outputs": [
    {
     "name": "stdout",
     "output_type": "stream",
     "text": [
      "id de [1, 2, 3, 4, 5, 6, 7, 8, 9, 10]: 2124031244544\n",
      "id de [100, 2, 3, 4, 5, 6, 7, 8, 9, 10]: 2124031244544\n",
      "Mismo id, entonces la lista es el mismo objeto\n"
     ]
    }
   ],
   "source": [
    "print(f\"id de {numeros}: {id(numeros)}\")\n",
    "\n",
    "numeros[0] = 100\n",
    "print(f\"id de {numeros}: {id(numeros)}\")\n",
    "print(\"Mismo id, entonces la lista es el mismo objeto\")"
   ]
  },
  {
   "cell_type": "markdown",
   "metadata": {},
   "source": [
    "Los **objetos mutables** son aquellos cuyo contenido puede modificarse luego de haber sido creados.  \n",
    "Por ejemplo: listas, diccionarios, conjuntos (sets)."
   ]
  },
  {
   "cell_type": "markdown",
   "metadata": {},
   "source": [
    "Los siguientes tipos de datos son **inmutables**:\n",
    "\n",
    "+ Números: clases ``int``, ``float``, ``complex``\n",
    "+ Bytes: clase ``bytes``\n",
    "+ Cadenas: clase ``str``\n",
    "+ Tuplas: clase ``tuple``\n",
    "+ Booleanos: clase ``bool``\n",
    "+ Frozen Sets: clase ``frozenset``\n",
    "\n",
    "Los siguientes tipos de datos son **mutables**:\n",
    "\n",
    "+ Listas: clase ``list``\n",
    "+ Diccionarios: clase ``dict``\n",
    "+ Conjuntos: clase ``set``\n",
    "+ Byte arrays: clase ``bytearray``"
   ]
  },
  {
   "cell_type": "markdown",
   "metadata": {},
   "source": [
    "### ¿Por qué diseñaríamos algo inmutable?\n",
    "\n",
    "Recordemos que en la programación funcional no registramos el estado de ejecución de un programa en variables u objetos como sí lo hacemos en otros paradigmas, por lo tanto trabajamos siempre con elementos inmutables que sirven de entrada y salida a las funciones.\n",
    "\n",
    "Diseñar soluciones con elementos inmutables nos provee algunos beneficios."
   ]
  },
  {
   "cell_type": "markdown",
   "metadata": {},
   "source": [
    "**Claridad y Entendimiento**  \n",
    "La inmutabilidad simplifica la lógica del programa al reducir la cantidad de cambios de estado posibles. Esto hace que el código sea más fácil de entender ya que no es necesario rastrear cambios en el estado a lo largo del tiempo.\n",
    "\n",
    "**Prevención de Cambios Accidentales**  \n",
    "Cuando se crea una instancia de una clase inmutable, sus valores no pueden ser modificados. Esto ayuda a prevenir cambios accidentales en el estado del objeto, lo que puede conducir a resultados inesperados o errores difíciles de rastrear.\n",
    "\n",
    "**Concurrencia más sencilla y segura**  \n",
    "En entornos con concurrencia (multi-threading), las clases inmutables eliminan la necesidad de sincronización para evitar problemas de concurrencia. Dado que no hay posibilidad de cambios en el estado, varios hilos (threads) pueden acceder y utilizar objetos inmutables de manera segura sin preocuparse por conflictos o inconsistencias.\n",
    "\n",
    "**Facilita la Programación Funcional**  \n",
    "Al diseñar clases inmutables, se facilita la adopción de principios funcionales, como la creación de funciones puras y la composición de operaciones, porque necesariamente se deben devolver nuevos objetos generados a partir de los originales agregando la modificación que corresponda.\n",
    "\n",
    "**Optimización de Rendimiento**  \n",
    "En ciertos casos, los compiladores y entornos de ejecución pueden optimizar el código que involucra objetos inmutables, ya que la falta de cambios de estado permite realizar ciertas optimizaciones."
   ]
  },
  {
   "cell_type": "markdown",
   "metadata": {},
   "source": [
    "## Clases inmutables"
   ]
  },
  {
   "cell_type": "markdown",
   "metadata": {},
   "source": [
    "### Ocultando Atributos\n",
    "\n",
    "La condición más importante, pero no suficiente, sería ocultar los atributos de nuestra clase utilizando la convención de nombre que indica **utilizar como prefijo el guión bajo**. Decimos que no es suficiente porque podríamos alterar el valor de nuestros atributos si los accedemos públicamente, recordemos que es una simple notación que indica a quien consume la clase que no debería hacerlo.\n",
    "\n",
    "Existe un atributo de clase especial ``__slots__`` que permite optimizar la creación de instancias en memoria, ya que podemos asignarle un conjunto fijo de nombres de atributos que tiene una instancia de esa clase. Por lo tanto, si definimos ``__slots__ = ('x', 'y',)`` como atributo de una clase significa que un objeto de esa clase sólo podrá tener como atributos a x e y."
   ]
  },
  {
   "cell_type": "markdown",
   "metadata": {},
   "source": [
    "### Properties\n",
    "\n",
    "Sabemos que en Python existe posibilidad de convertir atributos en propiedades para mejorar el encapsulamiento de la clase. Una estrategia sería **convertir los atributos en propiedades de sólo lectura**, es decir, no definir los setters."
   ]
  },
  {
   "cell_type": "code",
   "execution_count": null,
   "metadata": {},
   "outputs": [],
   "source": [
    "class MiClaseInmutable:\n",
    "    def __init__(self, valor_inicial):\n",
    "        self._valor = valor_inicial\n",
    "    \n",
    "    @property\n",
    "    def valor(self):\n",
    "        return self._valor\n",
    "\n",
    "objeto_inmutable = MiClaseInmutable(20)\n",
    "objeto_inmutable.valor                      # 20\n",
    "objeto_inmutable.valor = 10                 # AttributeError: property 'valor' of 'MiClaseInmutable' object has no setter\n",
    "objeto_inmutable._valor = 10                # Modifica el valor\n",
    "objeto_inmutable.valor                      # 10"
   ]
  },
  {
   "cell_type": "markdown",
   "metadata": {},
   "source": [
    "### Metodos especialess ``__setattr__`` y ``__delattr__``"
   ]
  },
  {
   "cell_type": "code",
   "execution_count": 3,
   "metadata": {},
   "outputs": [],
   "source": [
    "from typing import Any\n",
    "\n",
    "class MiClaseInmutable:\n",
    "    __slots__ = ('_valor',)\n",
    "\n",
    "    def __init__(self, valor_inicial):\n",
    "        super().__setattr__('_valor', valor_inicial)\n",
    "    \n",
    "    def __setattr__(self, __name: str, __value: Any) -> None:\n",
    "        raise AttributeError(f'No es posible setear el atributo {__name}')\n",
    "    \n",
    "    def __delattr__(self, __name: str) -> None:\n",
    "        raise AttributeError(f'No es posible eliminar el atributo {__name}')\n",
    "    \n",
    "    def valor(self):\n",
    "        return self._valor"
   ]
  },
  {
   "cell_type": "markdown",
   "metadata": {},
   "source": [
    "En la inicialización debemos utilizar el ``super().__setattr__()`` porque el propio devuelve una excepción. Entonces una vez inicializado el objeto, nunca podremos modificarlo."
   ]
  },
  {
   "cell_type": "markdown",
   "metadata": {},
   "source": [
    "### Named Tuples\n"
   ]
  },
  {
   "cell_type": "markdown",
   "metadata": {},
   "source": [
    " Una opción sería utilizar ``namedtuple`` que nos permite generar un objeto subclase de ``tuple``, por ende inmutable, pero con los atributos con nombres en lugar de índices."
   ]
  },
  {
   "cell_type": "code",
   "execution_count": 12,
   "metadata": {},
   "outputs": [
    {
     "data": {
      "text/plain": [
       "20"
      ]
     },
     "execution_count": 12,
     "metadata": {},
     "output_type": "execute_result"
    }
   ],
   "source": [
    "from collections import namedtuple\n",
    "\n",
    "MiClaseInmutable = namedtuple('MiClaseInmutable', 'valor1 valor2')\n",
    "mi_obj = MiClaseInmutable(10, 20)\n",
    "mi_obj                  # MiClaseInmutable(valor1=10, valor2=20) el que sale acá es el string de arriba\n",
    "mi_obj.valor1           # 10\n",
    "mi_obj.valor2           # 20"
   ]
  },
  {
   "cell_type": "markdown",
   "metadata": {},
   "source": [
    "El problema con esta estrategia es que perdemos el concepto de **encapsulamiento** que nos proveen las clases, vinculando la estructura con el comportamiento. Como solución podemos definir nuestra clase heredando desde ``namedtuple``."
   ]
  },
  {
   "cell_type": "code",
   "execution_count": 3,
   "metadata": {},
   "outputs": [
    {
     "data": {
      "text/plain": [
       "MiClaseInmutable(valor1=10, valor2=20) INMUTABLE"
      ]
     },
     "execution_count": 3,
     "metadata": {},
     "output_type": "execute_result"
    }
   ],
   "source": [
    "from collections import namedtuple\n",
    "\n",
    "class MiClaseInmutable(namedtuple('MiClaseInmutable', 'valor1 valor2')): # hereda de la clase anterior\n",
    "    __slots__ = ()\n",
    "    def __repr__(self) -> str: # ahora podemos agregar o sobreescribir métodos\n",
    "        return f'{super().__repr__()} INMUTABLE'\n",
    "    \n",
    "mi_obj = MiClaseInmutable(10, 20)\n",
    "mi_obj.valor1 # 10\n",
    "mi_obj"
   ]
  },
  {
   "cell_type": "markdown",
   "metadata": {},
   "source": [
    "Debemos agregar ``__slots__`` para evitar que la clase pueda aceptar nuevos atributos, pero luego podemos definir el comportamiento que deseemos, como en el ejemplo sobreescribiendo el método especial ``__repr__``."
   ]
  },
  {
   "cell_type": "markdown",
   "metadata": {},
   "source": [
    "### dataclasses\n",
    "\n",
    "El módulo ``dataclasses`` provee funcionalidad que implementa automáticamente **métodos especiales** en clases que diseñamos. La particularidad es que definimos la estructura de nuestras clases con variables de clase con anotaciones de tipo, y luego la función decoradora ``dataclass`` genera los atributos de instancia correspondientes implementando el método ``__init__()``.  \n",
    "El parametro ``frozen`` es un booleano que si se define en True podemos evitar la asignación nueva de valores y así proveer **inmutabilidad** a nuestra clase."
   ]
  },
  {
   "cell_type": "code",
   "execution_count": 13,
   "metadata": {},
   "outputs": [
    {
     "name": "stdout",
     "output_type": "stream",
     "text": [
      "Persona(nombre='Julia', apellido='Martinez', edad=22)\n"
     ]
    },
    {
     "ename": "FrozenInstanceError",
     "evalue": "cannot assign to field 'edad'",
     "output_type": "error",
     "traceback": [
      "\u001b[1;31m---------------------------------------------------------------------------\u001b[0m",
      "\u001b[1;31mFrozenInstanceError\u001b[0m                       Traceback (most recent call last)",
      "Cell \u001b[1;32mIn[13], line 14\u001b[0m\n\u001b[0;32m     12\u001b[0m p \u001b[38;5;241m=\u001b[39m Persona(\u001b[38;5;124m\"\u001b[39m\u001b[38;5;124mJulia\u001b[39m\u001b[38;5;124m\"\u001b[39m, \u001b[38;5;124m\"\u001b[39m\u001b[38;5;124mMartinez\u001b[39m\u001b[38;5;124m\"\u001b[39m, \u001b[38;5;241m22\u001b[39m)\n\u001b[0;32m     13\u001b[0m \u001b[38;5;28mprint\u001b[39m(p)        \u001b[38;5;66;03m# Persona(nombre='Julia', apellido='Martinez', edad=22)\u001b[39;00m\n\u001b[1;32m---> 14\u001b[0m \u001b[43mp\u001b[49m\u001b[38;5;241;43m.\u001b[39;49m\u001b[43medad\u001b[49m \u001b[38;5;241m=\u001b[39m \u001b[38;5;241m20\u001b[39m     \u001b[38;5;66;03m# FrozenInstanceError: cannot assign to field 'edad'\u001b[39;00m\n",
      "File \u001b[1;32m<string>:4\u001b[0m, in \u001b[0;36m__setattr__\u001b[1;34m(self, name, value)\u001b[0m\n",
      "\u001b[1;31mFrozenInstanceError\u001b[0m: cannot assign to field 'edad'"
     ]
    }
   ],
   "source": [
    "from dataclasses import dataclass\n",
    "\n",
    "@dataclass(frozen=True)\n",
    "class Persona:\n",
    "    nombre: str\n",
    "    apellido: str\n",
    "    edad: int\n",
    "\n",
    "    def es_adulta(self):\n",
    "        return self.edad >= 18\n",
    "    \n",
    "p = Persona(\"Julia\", \"Martinez\", 22)\n",
    "print(p)        # Persona(nombre='Julia', apellido='Martinez', edad=22)\n",
    "p.edad = 20     # FrozenInstanceError: cannot assign to field 'edad'"
   ]
  },
  {
   "cell_type": "markdown",
   "metadata": {},
   "source": [
    "## Transformación de funciones"
   ]
  },
  {
   "cell_type": "markdown",
   "metadata": {},
   "source": [
    "### Currificación\n",
    "\n",
    "Definiremos currificación (currying) como la **conversión de una función con n argumentos en n funciones con un único argumento**, de forma que se devuelve una función con aplicación parcial de un argumento en cada caso.\n",
    "\n",
    "``f(x, y, z) -> f(x)(y)(z)``"
   ]
  },
  {
   "cell_type": "markdown",
   "metadata": {},
   "source": [
    "Esto nos provee algunos beneficios:\n",
    "\n",
    "+ Construir funciones generalizadas que sean más fáciles de reutilizar.\n",
    "+ Generar de funciones específicas a partir de funciones generalizadas con algunos parámetros predefinidos.\n",
    "+ Facilita la composición de funciones.\n",
    "+ Facilita el razonamiento usando funciones parcialmente aplicadas."
   ]
  },
  {
   "cell_type": "code",
   "execution_count": 5,
   "metadata": {},
   "outputs": [
    {
     "name": "stdout",
     "output_type": "stream",
     "text": [
      "4\n",
      "4\n"
     ]
    }
   ],
   "source": [
    "# Función simple de suma\n",
    "def suma(x, y):\n",
    "    return x + y\n",
    "\n",
    "# Función currificada de suma\n",
    "def suma_curry(x):\n",
    "    def suma_x(y):\n",
    "        return x + y\n",
    "    return suma_x\n",
    "\n",
    "print(suma(1, 3))\n",
    "print(suma_curry(1)(3))"
   ]
  },
  {
   "cell_type": "markdown",
   "metadata": {},
   "source": [
    "En python disponemos de la función **partial** del módulo functools que nos permite realizar la vinculación de la aplicación parcial a otra función. Por lo cual puede resultar en una herramienta útil en lugar de currificar nuestras funciones."
   ]
  },
  {
   "cell_type": "code",
   "execution_count": 6,
   "metadata": {},
   "outputs": [
    {
     "data": {
      "text/plain": [
       "20"
      ]
     },
     "execution_count": 6,
     "metadata": {},
     "output_type": "execute_result"
    }
   ],
   "source": [
    "from functools import partial\n",
    "\n",
    "def producto(x: int, y: int) -> int:\n",
    "    return x * y\n",
    "\n",
    "producto_10 = partial(producto, 10)\n",
    "producto_10(2)"
   ]
  },
  {
   "cell_type": "markdown",
   "metadata": {},
   "source": [
    "Existe otro paquete interesante en Python para aplicar enfoque funcional, en este caso podemos usar la función decoradora ``curry()`` del módulo PyMonad para lograr el mismo objetivo de facilitar la currificación de una función. Simplemente le debemos indicar la cantidad de argumentos con la cual se currifica."
   ]
  },
  {
   "cell_type": "code",
   "execution_count": null,
   "metadata": {},
   "outputs": [],
   "source": [
    "from pymonad.tools import curry\n",
    "\n",
    "@curry(2)\n",
    "def producto(x: int, y: int) -> int:\n",
    "    return x * y\n",
    "\n",
    "producto_10 = producto(10)\n",
    "producto_10(2)"
   ]
  },
  {
   "cell_type": "markdown",
   "metadata": {},
   "source": [
    "También podríamos asignar la función currificada a una nueva variable sin utilizar el decorador."
   ]
  },
  {
   "cell_type": "code",
   "execution_count": null,
   "metadata": {},
   "outputs": [],
   "source": [
    "from pymonad.tools import curry\n",
    "\n",
    "producto_curry = curry(2, producto)"
   ]
  },
  {
   "cell_type": "markdown",
   "metadata": {},
   "source": [
    "### Decoradores\n",
    "\n",
    "Recordemos que una composición es la aplicación de una función sobre el resultado de otra función evaluada. En ese aspecto, un decorador puede cumplir con esa definición ya que básicamente realiza lo siguiente: ``mi_funcion = decorador(mi_funcion)``."
   ]
  },
  {
   "cell_type": "markdown",
   "metadata": {},
   "source": [
    "Es una opción útil para definir cierto comportamiento común aplicable a varias funciones, por lo cual podría justificarse eventualmente tener una librería de decoradores listos para reutilizar. Esto suele ser común para incorporar funcionalidad que es ajena a la función decorada, por ejemplo incorporar auditoría de ejecución, logging, controles de seguridad, etc.\n"
   ]
  },
  {
   "cell_type": "code",
   "execution_count": 2,
   "metadata": {},
   "outputs": [
    {
     "data": {
      "text/plain": [
       "'esto es una prueba'"
      ]
     },
     "execution_count": 2,
     "metadata": {},
     "output_type": "execute_result"
    }
   ],
   "source": [
    "from collections.abc import Callable\n",
    "from functools import wraps\n",
    "\n",
    "def trim(f: Callable[[str], str]) -> Callable[[str], str]:\n",
    "    @wraps(f)\n",
    "    def wrapper(texto: str) -> str:\n",
    "        return f(texto).strip() #quita los espacios\n",
    "    return wrapper\n",
    "\n",
    "@trim\n",
    "def transforma_texto(texto: str) -> str:\n",
    "    return texto.replace('.',' ')\n",
    "\n",
    "transforma_texto('  esto es una prueba. ')  # 'esto es una prueba'"
   ]
  },
  {
   "cell_type": "markdown",
   "metadata": {},
   "source": [
    "También podemos definir parámetros en funciones decoradoras, logrando así una composición del estilo: h = g(y) o f, donde y sería un parámetro propio de la función decoradora. Por ejemplo, podríamos extender la versión previa de forma que reciba parámetros que determinen si deseamos eliminar sólo espacios en el inicio o el final de la cadena."
   ]
  },
  {
   "cell_type": "code",
   "execution_count": 3,
   "metadata": {},
   "outputs": [],
   "source": [
    "from collections.abc import Callable\n",
    "from functools import wraps\n",
    "\n",
    "def trim(inicio: bool = True, fin: bool = True) -> Callable[[Callable[[str], str]], Callable[[str], str]]:\n",
    "    def trim_deco(f: Callable[[str], str]) -> Callable[[str], str]:\n",
    "        @wraps(f)\n",
    "        def wrapper(texto: str) -> str:\n",
    "            texto = f(texto)\n",
    "            if inicio:\n",
    "                texto = texto.lstrip()\n",
    "            if fin:\n",
    "                texto = texto.rstrip()\n",
    "            return texto\n",
    "        return wrapper\n",
    "    return trim_deco"
   ]
  },
  {
   "cell_type": "markdown",
   "metadata": {},
   "source": [
    "Ahora si aplicamos este nuevo decorador, debemos hacerlo con parámetros:"
   ]
  },
  {
   "cell_type": "code",
   "execution_count": 4,
   "metadata": {},
   "outputs": [
    {
     "data": {
      "text/plain": [
       "'  esto es una prueba'"
      ]
     },
     "execution_count": 4,
     "metadata": {},
     "output_type": "execute_result"
    }
   ],
   "source": [
    "@trim(inicio=False)\n",
    "def transforma_texto(texto: str) -> str:\n",
    "    return texto.replace('.',' ')\n",
    "\n",
    "transforma_texto('  esto es una prueba. ')  # '  esto es una prueba'"
   ]
  },
  {
   "cell_type": "code",
   "execution_count": 5,
   "metadata": {},
   "outputs": [
    {
     "data": {
      "text/plain": [
       "'esto es una prueba  '"
      ]
     },
     "execution_count": 5,
     "metadata": {},
     "output_type": "execute_result"
    }
   ],
   "source": [
    "@trim(fin=False)\n",
    "def transforma_texto(texto: str) -> str:\n",
    "    return texto.replace('.',' ')\n",
    "\n",
    "transforma_texto('  esto es una prueba. ')  # 'esto es una prueba  '"
   ]
  },
  {
   "cell_type": "markdown",
   "metadata": {},
   "source": [
    "# POO en Python"
   ]
  },
  {
   "cell_type": "markdown",
   "metadata": {},
   "source": [
    "## Miembros de clase y de instancia\n",
    "\n",
    "Recordemos que los miembros de una clase pueden ser de dos tipos: miembros de clase y miembros de instancia."
   ]
  },
  {
   "cell_type": "markdown",
   "metadata": {},
   "source": [
    "### Atributos\n",
    "\n",
    "Los **atributos de clase** son compartidos por todas las instancias de la clase. Estos miembros **se definen fuera de cualquier método de la clase y se accede a ellos utilizando el nombre de la clase**. Se pueden utilizar para almacenar datos que son comunes a todas las instancias de la clase.\n",
    "\n",
    "Los **atributos de instancia** son específicos de cada objeto individual y se definen dentro del método ``__init__()`` utilizando el parámetro self. Cada instancia de la clase tiene sus propias copias de los atributos de instancia."
   ]
  },
  {
   "cell_type": "code",
   "execution_count": null,
   "metadata": {},
   "outputs": [],
   "source": [
    "class Persona:\n",
    "    contador_personas = 0 # de clase\n",
    "\n",
    "    def __init__(self, nombre, edad):\n",
    "        self.nombre = nombre # de instancia\n",
    "        self.edad = edad # de instancia\n",
    "        Persona.contador_personas += 1\n",
    "\n",
    "juana = Persona(\"Juana\", 23)\n",
    "hugo = Persona(\"Hugo\", 33)\n",
    "\n",
    "juana.nombre                # 'Juana\n",
    "hugo.edad                   # 33\n",
    "Persona.contador_personas   # 2\n",
    "juana.contador_personas     # 2\n",
    "hugo.contador_personas      # 2"
   ]
  },
  {
   "cell_type": "markdown",
   "metadata": {},
   "source": [
    "### Métodos\n",
    "\n",
    "Así como podemos definir atributos de clase o instancia, también podemos aplicar el mismo criterio para los métodos. Las funciones definidas dentro de una clase son métodos de instancia y tienen la particularidad que el primer parámetro siempre es la instancia actual."
   ]
  },
  {
   "cell_type": "code",
   "execution_count": null,
   "metadata": {},
   "outputs": [],
   "source": [
    "class Persona:\n",
    "    contador_personas = 0\n",
    "\n",
    "    def __init__(self, nombre, apellido):\n",
    "        self.nombre = nombre\n",
    "        self.apellido = apellido\n",
    "\n",
    "    def nombre_completo(self):  # de instancia ya que consume atributos de instancia\n",
    "        return f'{self.nombre} {self.apellido}'\n",
    "    \n",
    "    @classmethod\n",
    "    def personas_creadas(cls):    # de clase\n",
    "        return cls.contador_personas\n",
    "    \n",
    "    @staticmethod\n",
    "    def a_minusculas(cadena):    # método estático, no puede acceder a ningún tipo de miembro.\n",
    "        return cadena.lower()\n",
    "\n",
    "juana = Persona(\"Juana\", \"Lopez\")\n",
    "juana.nombre_completo()             # 'Juana Lopez'\n",
    "\n",
    "Persona.personas_creadas()          # 1\n",
    "juana.personas_creadas()            # 1\n",
    "\n",
    "Persona.a_minusculas('Probando Método Estático')  # 'probando método estático'"
   ]
  },
  {
   "cell_type": "markdown",
   "metadata": {},
   "source": [
    "## Métodos especiales"
   ]
  },
  {
   "cell_type": "markdown",
   "metadata": {},
   "source": [
    "### ``__new__``"
   ]
  },
  {
   "cell_type": "markdown",
   "metadata": {},
   "source": [
    "El método ``object.__new__(cls[, ...])`` crea una nueva instancia de la clase que recibe como primer argumento. Es necesariamente un método estático. Los argumentos restantes se pasan al inicializador de la clase (``__init__()``) junto con la instancia creada como primer argumento. Retorna la instancia creada.\n",
    "\n",
    "Es muy poco frecuente sobreescribir este método en la práctica."
   ]
  },
  {
   "cell_type": "markdown",
   "metadata": {},
   "source": [
    "### ``__init__``"
   ]
  },
  {
   "cell_type": "markdown",
   "metadata": {},
   "source": [
    "El método ``object.__init__(self[, ...])`` es invocado luego de la creación de la instancia realizada en ``__new__()`` y ambos actúan como constructor de la clase.\n",
    "\n",
    "Si definimos un método ``__init__()`` en una clase que hereda de otra que tiene definido su propio ``__init__()``, debemos invocarlo explícitamente con ``super().__init__()`` con los argumentos necesarios.\n",
    "\n"
   ]
  },
  {
   "cell_type": "markdown",
   "metadata": {},
   "source": [
    "### ``__repr__``"
   ]
  },
  {
   "cell_type": "markdown",
   "metadata": {},
   "source": [
    "El método ``object.__repr__(self)`` actúa como la representación formal del objeto. Devuelve una cadena que debería representar el estado del objeto, de forma que provea información completa para poder recrearlo. Se invoca también si no está definido el método ``__str__()``."
   ]
  },
  {
   "cell_type": "code",
   "execution_count": null,
   "metadata": {},
   "outputs": [],
   "source": [
    "class Persona:\n",
    "    # resto de la implementación de Persona...\n",
    "    \n",
    "    def __repr__(self):\n",
    "        return f'<{self.__class__.__name__}(\"{self.nombre}\",\"{self.edad}\")>'\n",
    "\n",
    "juana = Persona(\"juana\", 23)    # <Persona(\"juana\",\"23\")>"
   ]
  },
  {
   "cell_type": "markdown",
   "metadata": {},
   "source": [
    "### ``__str__``"
   ]
  },
  {
   "cell_type": "markdown",
   "metadata": {},
   "source": [
    "El método ``object.__str__(self)`` actúa como la representación informal del objeto. Similar al __repr__(), devuelve una cadena que representa el estado de forma amigable. Es utilizado cuando se utiliza al objeto como argumento en las funciones ``format()`` y ``print()``."
   ]
  },
  {
   "cell_type": "markdown",
   "metadata": {},
   "source": [
    "### ``__eq__``"
   ]
  },
  {
   "cell_type": "markdown",
   "metadata": {},
   "source": [
    "El método ``object.__eq__(self, other)`` define la comparación de igualdad entre objetos.  \n",
    "Es invocado cuando se utiliza el operador ``==``."
   ]
  },
  {
   "cell_type": "code",
   "execution_count": null,
   "metadata": {},
   "outputs": [],
   "source": [
    "juana = Persona(\"juana\", 23)\n",
    "juana2 = Persona(\"juana\", 23)\n",
    "juana == juana2     # False"
   ]
  },
  {
   "cell_type": "code",
   "execution_count": null,
   "metadata": {},
   "outputs": [],
   "source": [
    "class Persona:\n",
    "    def __init__(self, nombre, edad):\n",
    "        self.nombre = nombre\n",
    "        self.edad = edad\n",
    "    def __eq__(self, otro):\n",
    "        return isinstance(otro, Persona) and self.nombre == otro.nombre and self.edad == otro.edad\n",
    "    def __hash__(self):\n",
    "        return hash((self.nombre, self.edad))\n",
    "    \n",
    "juana = Persona(\"juana\", 23)\n",
    "juana2 = Persona(\"juana\", 23)\n",
    "\n",
    "juana == juana2     # True"
   ]
  },
  {
   "cell_type": "markdown",
   "metadata": {},
   "source": [
    "Si definimos nuestro propio comparador de igualdad sobreescribiendo ``__eq__()``, debemos también definir el método ``__hash__()`` de forma que si dos objetos son iguales, deben tener retornar el mismo número hash."
   ]
  },
  {
   "cell_type": "markdown",
   "metadata": {},
   "source": [
    "### ``__bool__``"
   ]
  },
  {
   "cell_type": "markdown",
   "metadata": {},
   "source": [
    "El método ``object.__bool__(self)`` se invoca cuando se utiliza la instancia en una expresión booleana, representa el valor de verdad del objeto. Debe devolver ``True`` o ``False``. Si no se define, se invoca al método ``__len__()`` y devuelve ``True`` si es distinto de ``0``. Si tampoco tiene definido ese método, todas las instancias devuelven ``True``."
   ]
  },
  {
   "cell_type": "markdown",
   "metadata": {},
   "source": [
    "### ``__len__``"
   ]
  },
  {
   "cell_type": "markdown",
   "metadata": {},
   "source": [
    "El méodo ``object.__len__(self)`` **devuelve un número entero indicando la longitud del objeto**. Se suele implementar para colecciones y si devuelve el valor ``0`` se considera que es ``False`` en un contexto booleano. Es invocado cuando se solicita la longitud, por ejemplo con el comando ``len()``."
   ]
  },
  {
   "cell_type": "markdown",
   "metadata": {},
   "source": [
    "### ``__call__``"
   ]
  },
  {
   "cell_type": "markdown",
   "metadata": {},
   "source": [
    "El método ``object.__call__(self[, args...])`` es invocado **cuando se llama directamente a una instancia de objeto**. La idea es agregar un comportamiento general o por defecto a un objeto, sin la necesidad de especificar un método particular, de forma que lo convierte en un **objeto invocable** (callable). Esto se puede verificar mediante ``callable(<objeto>)``.  \n",
    "Toda instancia de una clase que tenga definido este método **se comporta como si fuera una función**."
   ]
  },
  {
   "cell_type": "code",
   "execution_count": 8,
   "metadata": {},
   "outputs": [
    {
     "data": {
      "text/plain": [
       "'ESTO ES UNA PRUEBA'"
      ]
     },
     "execution_count": 8,
     "metadata": {},
     "output_type": "execute_result"
    }
   ],
   "source": [
    "class FormateadorMayusculas:\n",
    "    def __init__(self):\n",
    "        self.texto = ''\n",
    "\n",
    "    def __call__(self, texto: str) -> str:\n",
    "        return texto.upper()\n",
    "    \n",
    "a_mayusculas = FormateadorMayusculas()\n",
    "a_mayusculas('esto es una prueba')"
   ]
  },
  {
   "cell_type": "markdown",
   "metadata": {},
   "source": [
    "### Comparadores\n",
    "\n",
    "Estos métodos nos permiten sobrecargar los operadores de comparación, como ``==``, ``!=,`` ``<``, ``>``, ``<=`` y ``>=``, para nuestros propios tipos de datos personalizados."
   ]
  },
  {
   "cell_type": "markdown",
   "metadata": {},
   "source": [
    "+ ``__ne__(self, other)``: Se invoca cuando se utiliza el operador de desigualdad ``!=`` para comparar dos objetos, por defecto utiliza ``__eq__()`` invirtiendo su valor retornado.\n",
    "+ ``__lt__(self, other)``: Se invoca cuando se utiliza el operador menor que ``<`` para comparar dos objetos. Se puede apoyar en ``__gt__()`` invirtiendo su resultado.\n",
    "+ ``__gt__(self, other)``: Se invoca cuando se utiliza el operador mayor que ``>`` para comparar dos objetos. Se puede apoyar en ``__lt__()`` invirtiendo su resultado.\n",
    "+ ``__le__(self, other)``: Se invoca cuando se utiliza el operador menor o igual que ``<=`` para comparar dos objetos. Se puede apoyar en ``__ge__()`` invirtiendo su resultado.\n",
    "+ ``__ge__(self, other)``: Se invoca cuando se utiliza el operador mayor o igual que ``>=`` para comparar dos objetos. Se puede apoyar en ``__le__()`` invirtiendo su resultado."
   ]
  },
  {
   "cell_type": "markdown",
   "metadata": {},
   "source": [
    "## Accesibilidad a miembros de clase"
   ]
  },
  {
   "cell_type": "markdown",
   "metadata": {},
   "source": [
    "Un miembro de una clase con un nombre que comienza con ``_``, se asume es no público. Si bien Python no restringe el acceso desde afuera, es una señal a quien consume la clase que **no debe accederlo directamente**.  \n",
    "\n",
    "Por otra parte, también existe otra forma de nombrar miembros no públicos mediante el prefijo de doble guión bajo ``__``. En este caso, el intérprete modifica internamente el nombre del miembro anteponiendo como prefijo ``_NombreClase``."
   ]
  },
  {
   "cell_type": "code",
   "execution_count": 11,
   "metadata": {},
   "outputs": [
    {
     "name": "stdout",
     "output_type": "stream",
     "text": [
      "['_MiClase__z', '__class__', '__delattr__', '__dict__', '__dir__', '__doc__', '__eq__', '__format__', '__ge__', '__getattribute__', '__getstate__', '__gt__', '__hash__', '__init__', '__init_subclass__', '__le__', '__lt__', '__module__', '__ne__', '__new__', '__reduce__', '__reduce_ex__', '__repr__', '__setattr__', '__sizeof__', '__str__', '__subclasshook__', '__weakref__', '_y', 'x']\n",
      "1\n",
      "2\n",
      "3\n",
      "9\n"
     ]
    }
   ],
   "source": [
    "class MiClase:\n",
    "    def __init__(self):\n",
    "        self.x = 1\n",
    "        self._y = 2\n",
    "        self.__z = 3\n",
    "\n",
    "mi_objeto = MiClase()\n",
    "print(dir(mi_objeto))           # ['_MiClase__z', ..., '_y', 'x']\n",
    "print(mi_objeto.x)              # 1\n",
    "print(mi_objeto._y)             # 2\n",
    "print(mi_objeto._MiClase__z)    # 3\n",
    "mi_objeto._MiClase__z = 9\n",
    "print(mi_objeto._MiClase__z)    # 9"
   ]
  },
  {
   "cell_type": "markdown",
   "metadata": {},
   "source": [
    "El uso de doble guión bajo como prefijo debe utilizarse sólo cuando necesitemos evitar algún problema de conflicto de nombre en subclases, de lo contrario **es preferible utilizar la convención de un único guión bajo para atributos no públicos**."
   ]
  },
  {
   "cell_type": "markdown",
   "metadata": {},
   "source": [
    "### Atributos -> Propiedades"
   ]
  },
  {
   "cell_type": "markdown",
   "metadata": {},
   "source": [
    "Una alternativa interesante que ofrece Python para mejorar el encapsulamiento y consistencia de nuestras clases es a través de la **conversión de los atributos en propiedades**. Esta funcionalidad que viene incorporada en el lenguaje permite definir **getters y setters** para operar con la estructura interna.  \n",
    "Si bien no provee estrictamente ocultamiento de información porque estamos publicando en cierta forma nuestros atributos, es una opción válida para definir precisamente cómo accederlos o modificarlos."
   ]
  },
  {
   "cell_type": "code",
   "execution_count": null,
   "metadata": {},
   "outputs": [],
   "source": [
    "class Punto:\n",
    "    def __init__(self, x: int | float, y: int | float) -> None:\n",
    "        self._x: int | float = x\n",
    "        self._y: int | float = y\n",
    "\n",
    "    @property\n",
    "    def x(self) -> int | float:\n",
    "        return self._x\n",
    "\n",
    "    @x.setter\n",
    "    def x(self, valor: int | float) -> None:\n",
    "        self._x = Punto._validar(valor)\n",
    "\n",
    "    @property\n",
    "    def y(self) -> int | float:\n",
    "        return self._y\n",
    "\n",
    "    @y.setter\n",
    "    def y(self, valor: int | float) -> None:\n",
    "        self._y = Punto._validar(valor)\n",
    "\n",
    "    @staticmethod\n",
    "    def _validar(valor: int | float) -> int | float:\n",
    "        if not isinstance(valor, int | float):\n",
    "            raise ValueError(\"Debe ser un número\")\n",
    "        return valor\n",
    "    \n",
    "p = Punto(3, 2)\n",
    "p.x                 # 3\n",
    "p.x = 11            # Invoca al setter de x\n",
    "p.x                 # 11\n",
    "p.x = 'a'           # ValueError: Debe ser un número"
   ]
  },
  {
   "cell_type": "markdown",
   "metadata": {},
   "source": [
    "Entonces, la forma básica de definir **getters y setters** con ``property()`` sería así:"
   ]
  },
  {
   "cell_type": "code",
   "execution_count": null,
   "metadata": {},
   "outputs": [],
   "source": [
    "# getter\n",
    "@property\n",
    "def nombre_atributo(self):\n",
    "    return self._nombre_atributo\n",
    "\n",
    "# setter\n",
    "@nombre_atributo.setter\n",
    "def nombre_atributo(self, valor):\n",
    "    self._nombre_atributo = valor"
   ]
  },
  {
   "cell_type": "markdown",
   "metadata": {},
   "source": [
    "Podemos generar propiedades de sólo lectura si no definimos su método _setter_, de tal forma si deseamos modificarla obtendremos un error del tipo ``AttributeError: property '<nombre_atributo>' of '<NombreClase>' object has no setter``.\n",
    "\n",
    "También podríamos generar propiedades de sólo escritura si definimos nuestro _getter_ de forma que devuelva una excepción: ``raise AttributeError(\"x es un atributo de solo lectura\")``, en lugar del valor del atributo."
   ]
  },
  {
   "cell_type": "markdown",
   "metadata": {},
   "source": [
    "## Herencia"
   ]
  },
  {
   "cell_type": "code",
   "execution_count": null,
   "metadata": {},
   "outputs": [],
   "source": [
    "class Persona:\n",
    "    pass\n",
    "    \n",
    "class Estudiante(Persona):\n",
    "    pass\n",
    "\n",
    "juana = Estudiante()\n",
    "isinstance(juana, Estudiante)   # True\n",
    "isinstance(juana, Persona)      # True\n",
    "isinstance(juana, object)       # True"
   ]
  },
  {
   "cell_type": "code",
   "execution_count": null,
   "metadata": {},
   "outputs": [],
   "source": [
    "class UserCampus(Estudiante, Docente):  # Ejemplo de herencia múltiple\n",
    "    pass"
   ]
  },
  {
   "cell_type": "markdown",
   "metadata": {},
   "source": [
    "### Constructor heredado"
   ]
  },
  {
   "cell_type": "markdown",
   "metadata": {},
   "source": [
    "Cuando extendemos una clase debemos tener presente los argumentos que recibe su método inicializador ``__init__()``, ya que si la superclase y subclase tienen un inicializador definido, **debemos invocar al primero explícitamente en el inicializador de nuestra subclase**."
   ]
  },
  {
   "cell_type": "code",
   "execution_count": null,
   "metadata": {},
   "outputs": [],
   "source": [
    "class Persona:\n",
    "    def __init__(self, nombre, apellido):\n",
    "        self.nombre = nombre\n",
    "        self.apellido = apellido\n",
    "    \n",
    "class Estudiante(Persona):\n",
    "    def __init__(self, nombre, apellido, matricula):\n",
    "        super().__init__(nombre, apellido)  # Invoca inicializador de Persona\n",
    "        self.matricula = matricula\n",
    "\n",
    "juana = Estudiante(\"Juana\", \"Lopez\", 1234)"
   ]
  },
  {
   "cell_type": "markdown",
   "metadata": {},
   "source": [
    "### Sobreescritura"
   ]
  },
  {
   "cell_type": "markdown",
   "metadata": {},
   "source": [
    "Una **subclase hereda todos los miembros de la superclase**, por lo cual podemos invocar los métodos de la superclase como si fueran propios. En caso que necesitáramos adaptar el comportamiento heredado a una subclase, podemos hacer uso de la **sobreescritura** de métodos."
   ]
  },
  {
   "cell_type": "code",
   "execution_count": null,
   "metadata": {},
   "outputs": [],
   "source": [
    "class Persona:\n",
    "    # Implementación de Persona...\n",
    "    \n",
    "    def __str__(self):\n",
    "        return f'{self.nombre} {self.apellido}'\n",
    "\n",
    "class Estudiante(Persona):\n",
    "    # Implementación de Estudiante...\n",
    "\n",
    "    def __str__(self):\n",
    "        return f'Estudiante {super().__str__()}'\n",
    "    \n",
    "juana = Estudiante(\"Juana\", \"Lopez\", 1234)\n",
    "print(juana)        # Estudiante Juana Lopez"
   ]
  },
  {
   "cell_type": "markdown",
   "metadata": {},
   "source": [
    "## Method Resolution Order (MRO)"
   ]
  },
  {
   "cell_type": "markdown",
   "metadata": {},
   "source": [
    "Dado que Python permite la herencia múltiple, resulta de interés conocer cómo se determina la implementación a utilizar de un método durante la herencia. Python utiliza lo que se denomina **_method resolution order_**, un mecanismo por el cual se **determina un orden particular donde buscaremos implementaciones de un método a lo largo de la jerarquía de clases**. De esta forma, traducimos un orden jerárquico (grafo de herencia) en un orden lineal (lista de clases)."
   ]
  },
  {
   "cell_type": "code",
   "execution_count": 4,
   "metadata": {},
   "outputs": [
    {
     "data": {
      "text/plain": [
       "[__main__.D, __main__.B, __main__.C, __main__.A, object]"
      ]
     },
     "execution_count": 4,
     "metadata": {},
     "output_type": "execute_result"
    }
   ],
   "source": [
    "class A:\n",
    "    def metodo1(self):\n",
    "        return 'Metodo1 de A'\n",
    "class B(A):\n",
    "    def metodo1(self):\n",
    "        return 'Metodo1 de B'\n",
    "class C(A):\n",
    "    def metodo1(self):\n",
    "        return 'Metodo1 de C'\n",
    "class D(B, C):\n",
    "    pass # no tiene metodo1\n",
    "\n",
    "D.mro()     # [__main__.D, __main__.B, __main__.C, __main__.A, object]"
   ]
  },
  {
   "cell_type": "markdown",
   "metadata": {},
   "source": [
    "Si analizamos el MRO de la clase ``D`` vemos que obviamente primero se busca en ``D`` y luego en ``B``, en lugar de buscar en ``C``. Esto sucede porque Python utiliza un algoritmo de linealización denominado **C3 superclass linearization** que determina el orden priorizando las más profundas en la jerarquía y de izquierda a derecha en aquellas del mismo nivel."
   ]
  },
  {
   "cell_type": "code",
   "execution_count": 5,
   "metadata": {},
   "outputs": [
    {
     "data": {
      "text/plain": [
       "'Metodo1 de B'"
      ]
     },
     "execution_count": 5,
     "metadata": {},
     "output_type": "execute_result"
    }
   ],
   "source": [
    "objeto_d = D()\n",
    "objeto_d.metodo1()"
   ]
  },
  {
   "cell_type": "markdown",
   "metadata": {},
   "source": [
    "Por ese motivo la invocación de metodo1 de un objeto de ``D`` será la implementada en la clase ``B``, ya que es la primera que aparece en la lista del atributo ``D.__mro__``."
   ]
  },
  {
   "cell_type": "markdown",
   "metadata": {},
   "source": [
    "## Clases Abstractas"
   ]
  },
  {
   "cell_type": "markdown",
   "metadata": {},
   "source": [
    "Para definir nuestra propia clase abstracta, simplemente debemos heredar de la clase ``abc.ABC``."
   ]
  },
  {
   "cell_type": "code",
   "execution_count": 6,
   "metadata": {},
   "outputs": [],
   "source": [
    "from abc import ABC\n",
    "\n",
    "class MiClaseAbstracta(ABC):\n",
    "    pass"
   ]
  },
  {
   "cell_type": "markdown",
   "metadata": {},
   "source": [
    "Se debe tener en cuenta que en Python no tenemos un mecanismo por el cual evitar instanciar una clase abstracta, para forzar este comportamiento debemos agregar al menos un método abstracto utilizando el decorador ``@abstractmethod``."
   ]
  },
  {
   "cell_type": "code",
   "execution_count": null,
   "metadata": {},
   "outputs": [],
   "source": [
    "from abc import ABC, abstractmethod\n",
    "\n",
    "class Vehiculo(ABC):\n",
    "    def __init__(self, marca, modelo):\n",
    "        self.marca = marca\n",
    "        self.modelo = modelo\n",
    "\n",
    "    @abstractmethod\n",
    "    def mostrar_info(self):\n",
    "        raise NotImplementedError\n",
    "\n",
    "vehiculo = Vehiculo(\"Toyota\", \"Corolla\")  # TypeError: Can't instantiate abstract class Vehiculo with abstract method mostrar_info"
   ]
  },
  {
   "cell_type": "markdown",
   "metadata": {},
   "source": [
    "## Funciones Internas"
   ]
  },
  {
   "cell_type": "markdown",
   "metadata": {},
   "source": [
    "### Funciones de ayuda (helpers)"
   ]
  },
  {
   "cell_type": "markdown",
   "metadata": {},
   "source": [
    "En ciertos casos puede que nos encontremos escribiendo código repetido, lo cual viola el principio DRY (Don't Repeat Yourself). Si bien podemos modularizar esa lógica en una **operación de ayuda**, si sólo se consume desde cierto lugar puede que sea conveniente modularizarla allí y evitar publicarla para acceder desde afuera. Sería una forma de modularizar dentro de lo modularizado, de forma que se mejore la interpretación y mantenimiento del código.\n",
    "\n",
    "Si esta operación de ayuda se consume sólo desde cierta clase, se podría definir simplemente un método privado (posiblemente estático) que sea accedido sólo desde dentro de la clase. Si la operación de ayuda sólo se consumirá desde cierta función o método, entonces una buena opción es definirla como **función interna**."
   ]
  },
  {
   "cell_type": "code",
   "execution_count": 8,
   "metadata": {},
   "outputs": [
    {
     "data": {
      "text/plain": [
       "[2.0, 5.0, 9.0]"
      ]
     },
     "execution_count": 8,
     "metadata": {},
     "output_type": "execute_result"
    }
   ],
   "source": [
    "def calcular_medias(*args: list[int]) -> list[float]:\n",
    "    def media(xs: list[int]) -> float:\n",
    "        return sum(xs) / len(xs) if len(xs) > 0 else 0\n",
    "    \n",
    "    medias: list[float] = []\n",
    "    for lista in args:\n",
    "        medias.append(media(lista))\n",
    "    \n",
    "    return medias\n",
    "\n",
    "calcular_medias([1,2,3], [4,5,6], [7,8,9,10,11])"
   ]
  },
  {
   "cell_type": "markdown",
   "metadata": {},
   "source": [
    "### Encapsulamiento"
   ]
  },
  {
   "cell_type": "markdown",
   "metadata": {},
   "source": [
    "Este concepto clave de la POO también puede aplicarse para combinar funcionalidad, otorgando así también el ocultamiento de cómo se resuelve internamente. Mediante el uso de funciones internas podemos encapsular funcionalidades dentro de una función externa. Esto es útil cuando deseamos **restringir el acceso de cierta función interna al ámbito de la función externa**."
   ]
  },
  {
   "cell_type": "code",
   "execution_count": 9,
   "metadata": {},
   "outputs": [
    {
     "data": {
      "text/plain": [
       "[1, 4, 9]"
      ]
     },
     "execution_count": 9,
     "metadata": {},
     "output_type": "execute_result"
    }
   ],
   "source": [
    "def procesar_datos(datos: list[str]) -> list[int]:\n",
    "    def filtrar_negativos(numeros: list[int|None]) -> list[int]:\n",
    "        return [num for num in numeros if num is not None and num >= 0]\n",
    "    \n",
    "    def limpiar_no_enteros(textos: list[str]) -> list[int|None]:\n",
    "        return list(map(lambda x: int(x) if x.isdigit() else None, textos))\n",
    "    \n",
    "    filtrados = limpiar_no_enteros(datos)\n",
    "    return filtrar_negativos(filtrados)\n",
    "\n",
    "procesar_datos(['1', 'a', '2.4', '-3', 'x', '4', '9']) # [1, 4, 9]"
   ]
  },
  {
   "cell_type": "markdown",
   "metadata": {},
   "source": [
    "Una desventaja de utilizar funciones internas es que probablemente reducen la cohesión de la función externa."
   ]
  },
  {
   "cell_type": "markdown",
   "metadata": {},
   "source": [
    "### Clausura"
   ]
  },
  {
   "cell_type": "markdown",
   "metadata": {},
   "source": [
    "Una clausura o cerradura es la **combinación de una función con el ámbito en el que fue creada**, incluso después de que ese ámbito haya dejado de existir. Esto significa que una función interna aún puede acceder y hacer referencia a las variables locales y los parámetros de la función externa, incluso después de que la función externa haya terminado su ejecución."
   ]
  },
  {
   "cell_type": "code",
   "execution_count": 10,
   "metadata": {},
   "outputs": [
    {
     "name": "stdout",
     "output_type": "stream",
     "text": [
      "Parametro externo: 1, Parametro interno: 2\n"
     ]
    }
   ],
   "source": [
    "def funcion_externa(parametro_externo):\n",
    "    def funcion_interna(parametro_interno):\n",
    "        return f'Parametro externo: {parametro_externo}, Parametro interno: {parametro_interno}'\n",
    "    \n",
    "    return funcion_interna # devuelve la funcion interna\n",
    "\n",
    "clausura = funcion_externa(1)\n",
    "print(clausura(2))  # Parametro externo: 1, Parametro interno: 2"
   ]
  },
  {
   "cell_type": "markdown",
   "metadata": {},
   "source": [
    "Un caso común donde se utiliza este concepto de clausura es en la currificación.\n",
    "\n",
    "Otro ejemplo:"
   ]
  },
  {
   "cell_type": "code",
   "execution_count": 11,
   "metadata": {},
   "outputs": [
    {
     "name": "stdout",
     "output_type": "stream",
     "text": [
      "0\n",
      "1\n",
      "2\n",
      "3\n",
      "2\n"
     ]
    }
   ],
   "source": [
    "def crear_contador():\n",
    "    contador = 0\n",
    "    \n",
    "    def valor_actual():\n",
    "        nonlocal contador\n",
    "        return contador\n",
    "\n",
    "    def incrementar():\n",
    "        nonlocal contador\n",
    "        contador += 1\n",
    "        return contador\n",
    "    \n",
    "    def decrementar():\n",
    "        nonlocal contador\n",
    "        contador -= 1\n",
    "        return contador\n",
    "\n",
    "    return valor_actual, incrementar, decrementar\n",
    "\n",
    "valor_actual, incrementar, decrementar = crear_contador()\n",
    "\n",
    "print(valor_actual()) # 0\n",
    "print(incrementar())  # 1\n",
    "print(incrementar())  # 2\n",
    "print(incrementar())  # 3\n",
    "print(decrementar())  # 2"
   ]
  },
  {
   "cell_type": "markdown",
   "metadata": {},
   "source": [
    "La palabra reservada ``nonlocal`` permite identificar que esa variable accedida o modificada se refiere a la definida en el ámbito de la función externa más inmediata. El comportamiento es similar al de ``global``, sólo que este último hace referencia al ámbito global del módulo.\n",
    "\n",
    "Al momento de invocar ``crear_contador()`` se generan 3 clausuras. Lo interesante es que las 3 comparten el mismo ámbito no local, donde vive la referencia de ``contador``. Estas clausuras retienen así el estado de ese ámbito aún cuando ``crear_contador()`` finalizó retornando la tupla de funciones."
   ]
  }
 ],
 "metadata": {
  "kernelspec": {
   "display_name": "Python 3",
   "language": "python",
   "name": "python3"
  },
  "language_info": {
   "codemirror_mode": {
    "name": "ipython",
    "version": 3
   },
   "file_extension": ".py",
   "mimetype": "text/x-python",
   "name": "python",
   "nbconvert_exporter": "python",
   "pygments_lexer": "ipython3",
   "version": "3.12.1"
  }
 },
 "nbformat": 4,
 "nbformat_minor": 2
}
